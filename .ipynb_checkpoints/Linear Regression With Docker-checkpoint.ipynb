{
 "cells": [
  {
   "cell_type": "code",
   "execution_count": null,
   "id": "02d6d876",
   "metadata": {},
   "outputs": [],
   "source": [
    "# import libraries \n",
    "import pandas as pd \n",
    "import numpy as np \n",
    "import matplotlib.pyplot as plt\n",
    "# this for inline visualization the \n",
    "# map or graph that we going to vizualize \n",
    "%matplotlib inline "
   ]
  },
  {
   "cell_type": "markdown",
   "id": "f59c803e",
   "metadata": {},
   "source": [
    "# Load the Data : Boston Housing Price Dataset"
   ]
  },
  {
   "cell_type": "code",
   "execution_count": null,
   "id": "8c6bb80a",
   "metadata": {},
   "outputs": [],
   "source": [
    "from sklearn.datasets import load_boston\n",
    "boston = load_boston()"
   ]
  },
  {
   "cell_type": "code",
   "execution_count": null,
   "id": "fb9aab8b",
   "metadata": {},
   "outputs": [],
   "source": [
    "# check type of data \n",
    "type(boston)"
   ]
  },
  {
   "cell_type": "code",
   "execution_count": null,
   "id": "0e72dedb",
   "metadata": {},
   "outputs": [],
   "source": [
    "boston.keys()"
   ]
  },
  {
   "cell_type": "code",
   "execution_count": null,
   "id": "31c80f34",
   "metadata": {},
   "outputs": [],
   "source": [
    "# check the description of the entier dataset \n",
    "print(boston['DESCR'])"
   ]
  },
  {
   "cell_type": "code",
   "execution_count": null,
   "id": "413b2fba",
   "metadata": {},
   "outputs": [],
   "source": [
    "print(boston['data'])"
   ]
  },
  {
   "cell_type": "code",
   "execution_count": null,
   "id": "1dc4c3af",
   "metadata": {},
   "outputs": [],
   "source": [
    "print(boston['target'])"
   ]
  },
  {
   "cell_type": "code",
   "execution_count": null,
   "id": "ab9915b7",
   "metadata": {},
   "outputs": [],
   "source": [
    "# the feature inforation of the dataset \n",
    "print(boston['feature_names'])"
   ]
  },
  {
   "cell_type": "markdown",
   "id": "6827aaaa",
   "metadata": {},
   "source": [
    "## Prepare the dataset "
   ]
  },
  {
   "cell_type": "code",
   "execution_count": null,
   "id": "67a0d76f",
   "metadata": {},
   "outputs": [],
   "source": [
    "# creat the dataset \n",
    "# the DataFrame() - is used to created the entier dataset using the dataset which we load as whole \n",
    "#             but only we need some of the information so we have to choose the feature for the dataset \n",
    "#             thats what we going to do in this script \n",
    "dataset = pd.DataFrame(boston.data, columns=boston.feature_names)"
   ]
  },
  {
   "cell_type": "code",
   "execution_count": null,
   "id": "20b15adc",
   "metadata": {},
   "outputs": [],
   "source": [
    "dataset.head()"
   ]
  },
  {
   "cell_type": "code",
   "execution_count": null,
   "id": "5969a393",
   "metadata": {},
   "outputs": [],
   "source": [
    "# create the output feature that we going to predict \n",
    "dataset['price'] = boston.target"
   ]
  },
  {
   "cell_type": "code",
   "execution_count": null,
   "id": "bf43c8c4",
   "metadata": {},
   "outputs": [],
   "source": [
    "dataset.head()"
   ]
  },
  {
   "cell_type": "markdown",
   "id": "d2d266e2",
   "metadata": {},
   "source": [
    "## Data Analysis\n"
   ]
  },
  {
   "cell_type": "code",
   "execution_count": null,
   "id": "4ccef695",
   "metadata": {},
   "outputs": [],
   "source": [
    "# check the whole set of information that the dataset we created \n",
    "dataset.info()"
   ]
  },
  {
   "cell_type": "code",
   "execution_count": null,
   "id": "4c2c8841",
   "metadata": {},
   "outputs": [],
   "source": [
    "# summrizing the stats of the data \n",
    "# this will be applied for all the numerical features and the categorical feature this will not apply\n",
    "dataset.describe()"
   ]
  },
  {
   "cell_type": "markdown",
   "id": "54c711be",
   "metadata": {},
   "source": [
    "### Checking the Null Values"
   ]
  },
  {
   "cell_type": "code",
   "execution_count": null,
   "id": "0039c332",
   "metadata": {},
   "outputs": [],
   "source": [
    "dataset.isnull().sum()"
   ]
  },
  {
   "cell_type": "markdown",
   "id": "5c1fa2cc",
   "metadata": {},
   "source": [
    "As result showing there is no null value in the dataset "
   ]
  },
  {
   "cell_type": "markdown",
   "id": "47affb92",
   "metadata": {},
   "source": [
    "## Exploratory Data Analysis (EDA)"
   ]
  },
  {
   "cell_type": "markdown",
   "id": "c898e6b4",
   "metadata": {},
   "source": [
    " #### About default -  corr() method details\n",
    " by default the method used here for the correlation is pearson<br>\n",
    " the peasron correlation is basically check the relationship between two features like x and y <br>\n",
    " the output pearson correlation is between -1 to 1<br>\n",
    " more towards the 1 is highly positivley correlated <br>\n",
    " more towards the -1 is highly negativly correlted "
   ]
  },
  {
   "cell_type": "code",
   "execution_count": null,
   "id": "82e5e70b",
   "metadata": {},
   "outputs": [],
   "source": [
    "# chcek the correaltion between the features\n",
    "dataset.corr()"
   ]
  },
  {
   "cell_type": "markdown",
   "id": "aa4e6f57",
   "metadata": {},
   "source": [
    "There are 2 types of correlation we need to check <br>\n",
    "    1. correlation between independent feature<br>\n",
    "    2. correlation between independent and dependent feature <br>\n",
    "    \n",
    "(1) if there is high correlation between independent feature, in this time we can remove one of the independent feature<br>\n",
    "because that is what is called as multi-collinearity (if my 2 inpendent varible are verry highly correlated <br>\n",
    "(like correled like 95% or 96% percent, or else negtive correlation also possible), here we can drop one the feature<br>\n",
    "and just take the other one <br><br>\n",
    "\n",
    "(2) the other one is the correlation between the independent and dependent features <br>\n",
    "\n",
    "in comming step wil visulize the correlation and see how those are look "
   ]
  },
  {
   "cell_type": "code",
   "execution_count": null,
   "id": "7801c51f",
   "metadata": {},
   "outputs": [],
   "source": [
    "# let check with simple pairplot with seaborn\n",
    "import seaborn as sns \n",
    "sns.pairplot(dataset)\n",
    "\n",
    "# these graph we see hardly but if we have less number of feature thism"
   ]
  },
  {
   "cell_type": "markdown",
   "id": "703225b5",
   "metadata": {},
   "source": [
    "## Analyzing The Correlated Features"
   ]
  },
  {
   "cell_type": "code",
   "execution_count": null,
   "id": "435baa75",
   "metadata": {},
   "outputs": [],
   "source": [
    "# let check the relationship between the CRIMa and Price\n",
    "plt.scatter(dataset['CRIM'], dataset['price'])\n",
    "plt.xlabel('Crime Rate')\n",
    "plt.ylabel('price of the house')"
   ]
  },
  {
   "cell_type": "markdown",
   "id": "0ebc06f8",
   "metadata": {},
   "source": [
    "As the above chart we can see the inverse relationship between the feature Cime rate and price <br>\n",
    "when the crime rate getting huge the price decrease"
   ]
  },
  {
   "cell_type": "code",
   "execution_count": null,
   "id": "fb899625",
   "metadata": {},
   "outputs": [],
   "source": [
    "# let check another postive correaltion avaergae number of room and price\n",
    "plt.scatter(dataset['RM'], dataset['price'])\n",
    "plt.xlabel('Average Number of Rooms')\n",
    "plt.ylabel('price of the house')"
   ]
  },
  {
   "cell_type": "code",
   "execution_count": null,
   "id": "09d1116b",
   "metadata": {},
   "outputs": [],
   "source": [
    "import seaborn as sns \n",
    "sns.regplot(x='RM',y='price',data=dataset)"
   ]
  },
  {
   "cell_type": "markdown",
   "id": "728c76db",
   "metadata": {},
   "source": [
    "The above chart is simllar to the scatter plot as we previously see but here we have simple linear line<br>\n",
    "show the rlationship in better "
   ]
  },
  {
   "cell_type": "code",
   "execution_count": null,
   "id": "3658bf10",
   "metadata": {},
   "outputs": [],
   "source": [
    "# let see a negatively correlated feature\n",
    "sns.regplot(x='LSTAT',y='price',data=dataset)"
   ]
  },
  {
   "cell_type": "code",
   "execution_count": null,
   "id": "22b164b7",
   "metadata": {},
   "outputs": [],
   "source": [
    "# let see some of the feature not at all correlated \n",
    "sns.regplot(x='CHAS',y='price',data=dataset)"
   ]
  },
  {
   "cell_type": "markdown",
   "id": "28ad7d83",
   "metadata": {},
   "source": [
    "As we see above chart the both feature does not good correlation between them, that mean there is no linearity between \n",
    " the feature \n",
    " \n",
    " Linearity bassically mean when one feature increase or decrease the feature also should increas or decrease, if not there<br>\n",
    " is no linearity between the feature (the example is the above two features, those are doesn't have linear relationship <br> between them "
   ]
  },
  {
   "cell_type": "code",
   "execution_count": null,
   "id": "da432b59",
   "metadata": {},
   "outputs": [],
   "source": [
    "sns.regplot(x='PTRATIO',y='price',data=dataset)"
   ]
  },
  {
   "cell_type": "code",
   "execution_count": null,
   "id": "1fd78ebf",
   "metadata": {},
   "outputs": [],
   "source": [
    "# Create or Sepeartate Independent and Dependet variable/feature for further to develop the model \n",
    "x = dataset.iloc[:,:-1]\n",
    "y = dataset.iloc[:,-1]"
   ]
  },
  {
   "cell_type": "code",
   "execution_count": null,
   "id": "2c8c4ef7",
   "metadata": {},
   "outputs": [],
   "source": [
    "# lets chek the x and y \n",
    "x.head()"
   ]
  },
  {
   "cell_type": "code",
   "execution_count": null,
   "id": "e516c37c",
   "metadata": {},
   "outputs": [],
   "source": [
    "y.head()\n"
   ]
  },
  {
   "cell_type": "code",
   "execution_count": null,
   "id": "7bb44c77",
   "metadata": {},
   "outputs": [],
   "source": [
    "#  Here we going to do the train and test spit - which basically the proportion of split the dataset into test and train\n",
    "from sklearn.model_selection import train_test_split\n",
    "\n",
    "x_train, x_test, y_train, y_test = train_test_split(x,y,test_size=0.3, random_state=42)"
   ]
  },
  {
   "cell_type": "code",
   "execution_count": null,
   "id": "98db74be",
   "metadata": {},
   "outputs": [],
   "source": [
    "x_train"
   ]
  },
  {
   "cell_type": "code",
   "execution_count": null,
   "id": "428856c1",
   "metadata": {},
   "outputs": [],
   "source": [
    "y_train"
   ]
  },
  {
   "cell_type": "code",
   "execution_count": null,
   "id": "7da545ec",
   "metadata": {},
   "outputs": [],
   "source": [
    "x_test"
   ]
  },
  {
   "cell_type": "code",
   "execution_count": null,
   "id": "fdf05a7b",
   "metadata": {},
   "outputs": [],
   "source": [
    "y_test"
   ]
  },
  {
   "cell_type": "markdown",
   "id": "e78f16df",
   "metadata": {},
   "source": [
    "### Standard Scalling \n",
    "\n",
    "The process is to stanadradize the all the value into same kind of value<br>\n",
    "As we seeing the above datasets are having different different data value unit <br>\n",
    "but when we comming to gradient descent (converging algorithm)  we need to normalize or standardize those all the data <br>points to same sacle, then it will fast the calculation <br>\n",
    "\n",
    "this will be done based on standradize scalar \n",
    "\n",
    "### main aim in our linear regression to come near to the global minima "
   ]
  },
  {
   "cell_type": "code",
   "execution_count": null,
   "id": "62fec133",
   "metadata": {},
   "outputs": [],
   "source": [
    "# Standardize the dataset\n",
    "from sklearn.preprocessing import StandardScaler\n",
    "scaler = StandardScaler()"
   ]
  },
  {
   "cell_type": "code",
   "execution_count": null,
   "id": "e9e9129c",
   "metadata": {},
   "outputs": [],
   "source": [
    "x_train = scaler.fit_transform(x_train)"
   ]
  },
  {
   "cell_type": "code",
   "execution_count": null,
   "id": "c5fae809",
   "metadata": {},
   "outputs": [],
   "source": [
    "# when ever try to apply to the test we dont use \"fit_transform\" but we only use \"transform\"\n",
    "# because we have to make sure that whatever information i have with respect to the trainting dataset and whatever \n",
    "# techiniques i have applied for the transforming it the same techniques need to be applied to the test data\n",
    "# this is done because to make sure that my model does not know much information about the test dataset\n",
    "x_test = scaler.transform(x_test)"
   ]
  },
  {
   "cell_type": "code",
   "execution_count": 1,
   "id": "bdd739d3",
   "metadata": {},
   "outputs": [
    {
     "ename": "NameError",
     "evalue": "name 'scler' is not defined",
     "output_type": "error",
     "traceback": [
      "\u001b[1;31m---------------------------------------------------------------------------\u001b[0m",
      "\u001b[1;31mNameError\u001b[0m                                 Traceback (most recent call last)",
      "\u001b[1;32m~\\AppData\\Local\\Temp/ipykernel_124/709794494.py\u001b[0m in \u001b[0;36m<module>\u001b[1;34m\u001b[0m\n\u001b[0;32m      1\u001b[0m \u001b[1;32mimport\u001b[0m \u001b[0mpickle\u001b[0m\u001b[1;33m\u001b[0m\u001b[1;33m\u001b[0m\u001b[0m\n\u001b[1;32m----> 2\u001b[1;33m \u001b[0mpickle\u001b[0m\u001b[1;33m.\u001b[0m\u001b[0mdump\u001b[0m\u001b[1;33m(\u001b[0m\u001b[0mscler\u001b[0m\u001b[1;33m,\u001b[0m\u001b[0mopen\u001b[0m\u001b[1;33m(\u001b[0m\u001b[1;34m\"scaler.pkl\"\u001b[0m\u001b[1;33m,\u001b[0m\u001b[1;34m\"wb\"\u001b[0m\u001b[1;33m)\u001b[0m\u001b[1;33m)\u001b[0m\u001b[1;33m\u001b[0m\u001b[1;33m\u001b[0m\u001b[0m\n\u001b[0m",
      "\u001b[1;31mNameError\u001b[0m: name 'scler' is not defined"
     ]
    }
   ],
   "source": [
    "import pickle\n",
    "pickle.dump(scaler,open(\"scaler.pkl\",\"wb\"))"
   ]
  },
  {
   "cell_type": "markdown",
   "id": "7b317d2c",
   "metadata": {},
   "source": [
    "###  But any way i have to look at why we using fit_transform for scaler.x_train and only <br><br>scaler.transform for x_test "
   ]
  },
  {
   "cell_type": "code",
   "execution_count": null,
   "id": "0531ec0f",
   "metadata": {},
   "outputs": [],
   "source": [
    "x_train"
   ]
  },
  {
   "cell_type": "code",
   "execution_count": null,
   "id": "3313039b",
   "metadata": {},
   "outputs": [],
   "source": [
    "x_test "
   ]
  },
  {
   "cell_type": "markdown",
   "id": "0d8c6a95",
   "metadata": {},
   "source": [
    "### Why we standardize data\n",
    "\n",
    "internally we using graident descent, our main aim to come global minima\n",
    "to come to the global minima we have make sure that all <br>our independent feature\n",
    "units should be in the same scale because of that the convergence will happen Quickly "
   ]
  },
  {
   "cell_type": "markdown",
   "id": "db51b4d9",
   "metadata": {},
   "source": [
    "# Model Training "
   ]
  },
  {
   "cell_type": "code",
   "execution_count": null,
   "id": "c26ab3f7",
   "metadata": {},
   "outputs": [],
   "source": [
    "from sklearn.linear_model import LinearRegression\n",
    "reg = LinearRegression()"
   ]
  },
  {
   "cell_type": "code",
   "execution_count": null,
   "id": "d51e07d5",
   "metadata": {},
   "outputs": [],
   "source": [
    "reg.fit(x_train, y_train)"
   ]
  },
  {
   "cell_type": "code",
   "execution_count": null,
   "id": "7b652660",
   "metadata": {},
   "outputs": [],
   "source": [
    "# lets check the coefficient and intercepts\n",
    "print(reg.coef_)"
   ]
  },
  {
   "cell_type": "markdown",
   "id": "6f9bfa08",
   "metadata": {},
   "source": [
    "For every feature there will be coefficient, here the changes of one unit that particular data point\n",
    "how that going to effect the dependent variable/ target variable linearly (positively or negtively)\n",
    "\n",
    "example\n",
    "\n",
    "if CRIM point increase by one point the price will reduce as -1.108"
   ]
  },
  {
   "cell_type": "code",
   "execution_count": null,
   "id": "9f96d646",
   "metadata": {},
   "outputs": [],
   "source": [
    "print(reg.intercept_)"
   ]
  },
  {
   "cell_type": "code",
   "execution_count": null,
   "id": "442a46cd",
   "metadata": {},
   "outputs": [],
   "source": [
    "# on whcih parametters the model has been trained\n",
    "reg.get_params()"
   ]
  },
  {
   "cell_type": "code",
   "execution_count": null,
   "id": "3fe2343b",
   "metadata": {},
   "outputs": [],
   "source": [
    "# do the prediction with the test data \n",
    "reg_pred = reg.predict(x_test)\n",
    "reg_pred"
   ]
  },
  {
   "cell_type": "markdown",
   "id": "982952c1",
   "metadata": {},
   "source": [
    "## check whether model is good or bad iwith various charts \n"
   ]
  },
  {
   "cell_type": "markdown",
   "id": "234c4ae3",
   "metadata": {},
   "source": [
    "## Assumptions"
   ]
  },
  {
   "cell_type": "code",
   "execution_count": null,
   "id": "a3e35ea0",
   "metadata": {},
   "outputs": [],
   "source": [
    "## plot scatter plot for the prediction\n",
    "plt.scatter(y_test, reg_pred)"
   ]
  },
  {
   "cell_type": "markdown",
   "id": "a133b8bb",
   "metadata": {},
   "source": [
    "when the scatter plot shows the prediction and actual values of plotting linear then that is good prediction model"
   ]
  },
  {
   "cell_type": "code",
   "execution_count": null,
   "id": "2dfc3c2c",
   "metadata": {},
   "outputs": [],
   "source": [
    "## prediction with residuals \n",
    "residuals = y_test - reg_pred\n",
    "residuals"
   ]
  },
  {
   "cell_type": "code",
   "execution_count": null,
   "id": "d24e18e6",
   "metadata": {},
   "outputs": [],
   "source": [
    "## plotting this residuals \n",
    "sns.displot(residuals,kind='kde')"
   ]
  },
  {
   "cell_type": "markdown",
   "id": "1dd9aace",
   "metadata": {},
   "source": [
    "As we seeing this plot is look normal distribution but anyways there are some outliers can see on the right side\n",
    "\n",
    "\n",
    "Beyond this the residulas should be normally get as normal distribution, but actually we achieved it\n",
    "\n",
    "The range of the residual is 1 to -1"
   ]
  },
  {
   "cell_type": "code",
   "execution_count": null,
   "id": "846ef2a0",
   "metadata": {},
   "outputs": [],
   "source": [
    "### scatter plot respect to orediction and residuals \n",
    "## Uniformly distributed \n",
    "plt.scatter(reg_pred, residuals)\n"
   ]
  },
  {
   "cell_type": "markdown",
   "id": "d2a08f7e",
   "metadata": {},
   "source": [
    "As you can see this scatter plot you seen that data points are uniformly scatter, there is not follwiing any kind kind <br>\n",
    "distribution or format and this means that the model is performing well  "
   ]
  },
  {
   "cell_type": "markdown",
   "id": "2e88a310",
   "metadata": {},
   "source": [
    "## Check the model with perfomance matrics "
   ]
  },
  {
   "cell_type": "code",
   "execution_count": null,
   "id": "d12f48d0",
   "metadata": {},
   "outputs": [],
   "source": [
    "from sklearn.metrics import mean_squared_error\n",
    "from sklearn.metrics import mean_absolute_error"
   ]
  },
  {
   "cell_type": "code",
   "execution_count": null,
   "id": "1877a603",
   "metadata": {},
   "outputs": [],
   "source": [
    "print(mean_squared_error(y_test,reg_pred))\n",
    "print(mean_absolute_error(y_test,reg_pred))\n",
    "print(np.sqrt(mean_squared_error(y_test,reg_pred)))"
   ]
  },
  {
   "cell_type": "markdown",
   "id": "c8a8b7c7",
   "metadata": {},
   "source": [
    "The above result basically indicate how the model actualy performing "
   ]
  },
  {
   "cell_type": "markdown",
   "id": "dce29407",
   "metadata": {},
   "source": [
    "## R square and Adjuested R Square "
   ]
  },
  {
   "cell_type": "markdown",
   "id": "6fe774ce",
   "metadata": {},
   "source": [
    "These are also very important perfomance metrics, when ever we create linear regression model"
   ]
  },
  {
   "cell_type": "markdown",
   "id": "2006a6f0",
   "metadata": {},
   "source": [
    "Formula \n",
    "### R^2 = 1 - SSR/SST\n",
    "\n",
    "R^2 = Coefficient of Determination<br> SSR = sum of square of residuals <br> SST =  sum of square total"
   ]
  },
  {
   "cell_type": "code",
   "execution_count": null,
   "id": "94a238ff",
   "metadata": {},
   "outputs": [],
   "source": [
    "from sklearn.metrics import r2_score\n",
    "score= r2_score(y_test,reg_pred)\n",
    "print(score)"
   ]
  },
  {
   "cell_type": "markdown",
   "id": "2cce604f",
   "metadata": {},
   "source": [
    "The more towards the score actually good for the model"
   ]
  },
  {
   "cell_type": "markdown",
   "id": "6ff173d0",
   "metadata": {},
   "source": [
    "### Adjusted R2 = 1 - [(1-R2)*(n-1)/(n-k-1)]\n",
    "\n",
    "Where:\n",
    "<br><br>\n",
    "R2: The R2 of the model <br>\n",
    "n: The number of observations <br>\n",
    "k: The number of predictor variables "
   ]
  },
  {
   "cell_type": "code",
   "execution_count": null,
   "id": "eefce0c9",
   "metadata": {},
   "outputs": [],
   "source": [
    "ar2 = 1 - (1 - score) * (len(y_test)-1) / (len(y_test) - x_test.shape[1]-1)\n",
    "print(ar2)"
   ]
  },
  {
   "cell_type": "markdown",
   "id": "b701d205",
   "metadata": {},
   "source": [
    "# NOTE \n",
    "\n",
    "### Have to Look at all individual performance metrics and understand the math and the concept behind them\n",
    "### Also have to look at the differnt types of plots and make sure to understand the purpose of those plots and understand where to use those "
   ]
  },
  {
   "cell_type": "markdown",
   "id": "f65c2546",
   "metadata": {},
   "source": [
    "## New Data Prediction"
   ]
  },
  {
   "cell_type": "markdown",
   "id": "38b91a08",
   "metadata": {},
   "source": [
    "Here we going to give the single data point from our dataset and check how the prediction can be done usin those data<br>\n",
    "When we giving data to the model prediction we have to give that as 2 dimensional,so let see how these can be achieved<br>"
   ]
  },
  {
   "cell_type": "code",
   "execution_count": null,
   "id": "dca32596",
   "metadata": {},
   "outputs": [],
   "source": [
    "boston.data"
   ]
  },
  {
   "cell_type": "code",
   "execution_count": null,
   "id": "7dc443a2",
   "metadata": {},
   "outputs": [],
   "source": [
    "# let see how we can give the first data point and do the prediction \n",
    "# now changed the dimension to 2 dimension \n",
    "boston.data[0].reshape(1,-1).shape"
   ]
  },
  {
   "cell_type": "code",
   "execution_count": null,
   "id": "7f1485ab",
   "metadata": {},
   "outputs": [],
   "source": [
    "# lets transform the data points to same scale \n",
    "scaler.transform(boston.data[0].reshape(1,-1))"
   ]
  },
  {
   "cell_type": "code",
   "execution_count": null,
   "id": "b668d2e7",
   "metadata": {},
   "outputs": [],
   "source": [
    "# but anywasy when ever we going to give the data point o the prediction the standard step should be followed\n",
    "# here we going do the scalling (we shiould make sure the data points are in the same types of value)\n",
    "reg.predict(scaler.transform(boston.data[0].reshape(1,-1)))"
   ]
  },
  {
   "cell_type": "markdown",
   "id": "65c01dd5",
   "metadata": {},
   "source": [
    "## Picking the model File For Deployment"
   ]
  },
  {
   "cell_type": "markdown",
   "id": "cbc8a338",
   "metadata": {},
   "source": [
    "Here we going to pickle the model file (regression model file) so that we can further we can use this for deployment<br>\n",
    "So these projects will be deply using dockers and take the github action"
   ]
  },
  {
   "cell_type": "code",
   "execution_count": null,
   "id": "9af8649d",
   "metadata": {},
   "outputs": [],
   "source": [
    "# impoprt pickle library, this very important library to do th pickling\n",
    "import pickle\n",
    "pickle.dump(reg,open(\"regmodel.pkl\",\"wb\"))"
   ]
  },
  {
   "cell_type": "markdown",
   "id": "9d4ddee8",
   "metadata": {},
   "source": [
    "as first parameter to this we passing the model object \n",
    "then what name and where it shoul be created <br>\n",
    "the mode is \"wb (write byte)\": it will down all the content of the object inside this file <br><br>\n",
    "The pickle is serialized format file, so that it can deploy in and server and problem if you want<br>\n",
    "fo the prediction from the web application we can easily do it <br><br>\n",
    "\n",
    "All the information of the model is stored as serilialized format, so that we can load it again and use as the model for prediction"
   ]
  },
  {
   "cell_type": "code",
   "execution_count": null,
   "id": "60c6b242",
   "metadata": {},
   "outputs": [],
   "source": [
    "pickle.dump(reg,open(\"regmodel.pkl\",\"wb\"))"
   ]
  },
  {
   "cell_type": "code",
   "execution_count": null,
   "id": "30a76136",
   "metadata": {},
   "outputs": [],
   "source": [
    "# the pickle also can be loaded : now we have to read in \"read byte\" mode\n",
    "pickled_model = pickle.load(open('regmodel.pkl','rb'))"
   ]
  },
  {
   "cell_type": "code",
   "execution_count": null,
   "id": "35698be4",
   "metadata": {},
   "outputs": [],
   "source": [
    "# lets predic with the pickled model \n",
    "pickled_model.predict(scaler.transform(boston.data[0].reshape(1,-1)))"
   ]
  },
  {
   "cell_type": "markdown",
   "id": "c2c93336",
   "metadata": {},
   "source": [
    "Here we can see the result is same as we got from the model prediction for single data point"
   ]
  },
  {
   "cell_type": "markdown",
   "id": "64f96ef1",
   "metadata": {},
   "source": [
    "### Now we will focus on how to convert the entier project into and end-to-end project itself "
   ]
  },
  {
   "cell_type": "markdown",
   "id": "5e0fe021",
   "metadata": {},
   "source": [
    "# NOTE\n",
    "### 1. Learn About what is CI CD pipline in deployment of the model \n",
    "### 2. Follow the industrial formate to do the deploment, now we following but learn more \n",
    "###     (Use git, create ci cd pipe line,use cloud to load and deploy model)"
   ]
  },
  {
   "cell_type": "markdown",
   "id": "f47819be",
   "metadata": {},
   "source": [
    "#### if ypu didnt create file LICENSE,.gitignore, README no worries we can create those and <br><br>select the template from there in github"
   ]
  },
  {
   "cell_type": "code",
   "execution_count": null,
   "id": "f318cd91",
   "metadata": {},
   "outputs": [],
   "source": []
  }
 ],
 "metadata": {
  "kernelspec": {
   "display_name": "Python 3 (ipykernel)",
   "language": "python",
   "name": "python3"
  },
  "language_info": {
   "codemirror_mode": {
    "name": "ipython",
    "version": 3
   },
   "file_extension": ".py",
   "mimetype": "text/x-python",
   "name": "python",
   "nbconvert_exporter": "python",
   "pygments_lexer": "ipython3",
   "version": "3.8.11"
  }
 },
 "nbformat": 4,
 "nbformat_minor": 5
}
